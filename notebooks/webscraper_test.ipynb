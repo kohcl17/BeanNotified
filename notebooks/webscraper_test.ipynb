{
 "cells": [
  {
   "cell_type": "code",
   "execution_count": 79,
   "metadata": {},
   "outputs": [
    {
     "name": "stderr",
     "output_type": "stream",
     "text": [
      "Neither CUDA nor MPS are available - defaulting to CPU. Note: This module is much faster with a GPU.\n"
     ]
    }
   ],
   "source": [
    "# from selenium import webdriver\n",
    "import re\n",
    "import requests\n",
    "import pandas as pd\n",
    "from bs4 import BeautifulSoup\n",
    "\n",
    "# OCR for tasting notes (if applicable)\n",
    "from PIL import Image\n",
    "import numpy as np\n",
    "from io import BytesIO\n",
    "import easyocr\n",
    "\n",
    "reader = easyocr.Reader(['en']) # this needs to run only once to load the model into memory"
   ]
  },
  {
   "cell_type": "markdown",
   "metadata": {},
   "source": [
    "# Functions"
   ]
  },
  {
   "cell_type": "code",
   "execution_count": 3,
   "metadata": {},
   "outputs": [],
   "source": [
    "def get_products(url, platform = \"Shopify\"):\n",
    "    jsonReq = requests.get(url).json()\n",
    "    if platform == \"Shopify\":\n",
    "        products = jsonReq['products']\n",
    "    elif platform == \"Squarespace\":\n",
    "        products = jsonReq['items']\n",
    "    return products"
   ]
  },
  {
   "cell_type": "code",
   "execution_count": 4,
   "metadata": {},
   "outputs": [],
   "source": [
    "# Wix and Woocommerce are special and needs its own method of scraping bc god knows\n",
    "def build_url(link, platform = \"Shopify\"):\n",
    "    if platform == \"Shopify\":\n",
    "        productJson = link + \"/products.json\"\n",
    "    elif platform == \"Squarespace\":\n",
    "        productJson = link + \"/?format=json\"\n",
    "    elif platform == \"Wix\":\n",
    "        productJson = link\n",
    "    else:\n",
    "        productJson = link\n",
    "    return productJson"
   ]
  },
  {
   "cell_type": "code",
   "execution_count": 5,
   "metadata": {},
   "outputs": [],
   "source": [
    "def extract_flavor_notes(text, profile):\n",
    "    # join the list of profiles to search for\n",
    "    keywords = \"|\".join(profile)\n",
    "\n",
    "    # Find all matches in the text\n",
    "    matches = re.findall(keywords, text, re.IGNORECASE)\n",
    "    return matches\n"
   ]
  },
  {
   "cell_type": "code",
   "execution_count": 6,
   "metadata": {},
   "outputs": [],
   "source": [
    "def get_product_details(storeJsonProducts, platform = \"Shopify\"):\n",
    "    all_products = pd.DataFrame()\n",
    "    if platform == 'Shopify':\n",
    "        for k,v in storeJsonProducts.items():\n",
    "            if v.shape[0] != 0:\n",
    "                title = v.title\n",
    "                excerpt = v.body_html\n",
    "                clean_excerpt = [BeautifulSoup(a, \"html.parser\").get_text() for a in excerpt]\n",
    "                subdataset = pd.DataFrame(data = {\"store\": k,\n",
    "                                                \"product\": title,\n",
    "                                                \"description\": clean_excerpt\n",
    "                                                })\n",
    "            else:\n",
    "                subdataset = pd.DataFrame()\n",
    "            all_products = pd.concat([all_products, subdataset], axis = 0)\n",
    "    \n",
    "    elif platform == \"Squarespace\":\n",
    "        for k,v in storeJsonProducts.items():\n",
    "            if v.shape[0] != 0:\n",
    "                title = v.title\n",
    "                excerpt = v.excerpt\n",
    "                clean_excerpt = [BeautifulSoup(a, \"html.parser\").get_text() for a in excerpt]\n",
    "                subdataset = pd.DataFrame(data = {\"store\": k,\n",
    "                                                \"product\": title,\n",
    "                                                \"description\": clean_excerpt\n",
    "                                                })\n",
    "            else:\n",
    "                subdataset = pd.DataFrame()\n",
    "            all_products = pd.concat([all_products, subdataset], axis = 0)\n",
    "    \n",
    "    all_products = all_products.reset_index(drop = True)\n",
    "    return all_products"
   ]
  },
  {
   "cell_type": "code",
   "execution_count": 80,
   "metadata": {},
   "outputs": [],
   "source": [
    "def parse_image(url):\n",
    "    response = requests.get(url)\n",
    "    img = np.array(Image.open(BytesIO(response.content)).convert('L'))\n",
    "    text = reader.readtext(img)\n",
    "    text_confident = [t for bbox, t, prob in text if prob > 0.5]\n",
    "    return text_confident"
   ]
  },
  {
   "cell_type": "markdown",
   "metadata": {},
   "source": [
    "# Parse Coffee Website List"
   ]
  },
  {
   "cell_type": "code",
   "execution_count": 60,
   "metadata": {},
   "outputs": [],
   "source": [
    "SGcoffee = pd.read_csv(\"sg_coffee_websites.txt\", delimiter= \"\\t\", index_col = 0)"
   ]
  },
  {
   "cell_type": "markdown",
   "metadata": {},
   "source": [
    "# Shopify"
   ]
  },
  {
   "cell_type": "code",
   "execution_count": 61,
   "metadata": {},
   "outputs": [],
   "source": [
    "shopify_sites = SGcoffee[SGcoffee.Platform == \"Shopify\"]"
   ]
  },
  {
   "cell_type": "code",
   "execution_count": 62,
   "metadata": {},
   "outputs": [],
   "source": [
    "shopifyJsonLink = {}\n",
    "shopifyJsonProducts = {}\n",
    "for s in shopify_sites.index:\n",
    "    parseLink = build_url(shopify_sites.loc[s, \"Link\"])\n",
    "    shopifyJsonLink[s] = parseLink\n",
    "    listing = get_products(parseLink)\n",
    "    shopifyJsonProducts[s] = pd.DataFrame.from_dict(listing)"
   ]
  },
  {
   "cell_type": "code",
   "execution_count": 63,
   "metadata": {},
   "outputs": [],
   "source": [
    "all_shopify_products = get_product_details(shopifyJsonProducts, platform=\"Shopify\")"
   ]
  },
  {
   "cell_type": "code",
   "execution_count": 64,
   "metadata": {},
   "outputs": [
    {
     "data": {
      "text/html": [
       "<div>\n",
       "<style scoped>\n",
       "    .dataframe tbody tr th:only-of-type {\n",
       "        vertical-align: middle;\n",
       "    }\n",
       "\n",
       "    .dataframe tbody tr th {\n",
       "        vertical-align: top;\n",
       "    }\n",
       "\n",
       "    .dataframe thead th {\n",
       "        text-align: right;\n",
       "    }\n",
       "</style>\n",
       "<table border=\"1\" class=\"dataframe\">\n",
       "  <thead>\n",
       "    <tr style=\"text-align: right;\">\n",
       "      <th></th>\n",
       "      <th>Link</th>\n",
       "      <th>Platform</th>\n",
       "      <th>Scrape_Image</th>\n",
       "    </tr>\n",
       "    <tr>\n",
       "      <th>Name</th>\n",
       "      <th></th>\n",
       "      <th></th>\n",
       "      <th></th>\n",
       "    </tr>\n",
       "  </thead>\n",
       "  <tbody>\n",
       "    <tr>\n",
       "      <th>Bettr</th>\n",
       "      <td>https://bettr.coffee/collections/coffee-beans</td>\n",
       "      <td>Shopify</td>\n",
       "      <td>True</td>\n",
       "    </tr>\n",
       "    <tr>\n",
       "      <th>Bloom Coffee</th>\n",
       "      <td>https://bloomwithcoffee.com/collections/all</td>\n",
       "      <td>Shopify</td>\n",
       "      <td>True</td>\n",
       "    </tr>\n",
       "    <tr>\n",
       "      <th>Cata Coffee</th>\n",
       "      <td>https://catacoffee.com/collections/coffee-beans</td>\n",
       "      <td>Shopify</td>\n",
       "      <td>True</td>\n",
       "    </tr>\n",
       "    <tr>\n",
       "      <th>Cumulo Coffee</th>\n",
       "      <td>https://www.cumulocoffee.com/collections/coffe...</td>\n",
       "      <td>Shopify</td>\n",
       "      <td>True</td>\n",
       "    </tr>\n",
       "    <tr>\n",
       "      <th>Doubleup Coffee</th>\n",
       "      <td>https://doubleup-coffee.com/collections/coffee...</td>\n",
       "      <td>Shopify</td>\n",
       "      <td>True</td>\n",
       "    </tr>\n",
       "    <tr>\n",
       "      <th>Dutch Colony Coffee</th>\n",
       "      <td>https://www.dutchcolony.sg/collections/coffee-2</td>\n",
       "      <td>Shopify</td>\n",
       "      <td>True</td>\n",
       "    </tr>\n",
       "    <tr>\n",
       "      <th>Fluid Collective</th>\n",
       "      <td>https://fluidcollective.co/collections/retail-...</td>\n",
       "      <td>Shopify</td>\n",
       "      <td>True</td>\n",
       "    </tr>\n",
       "    <tr>\n",
       "      <th>Glyph Supply Co</th>\n",
       "      <td>https://www.glyphsupply.co/collections/all</td>\n",
       "      <td>Shopify</td>\n",
       "      <td>True</td>\n",
       "    </tr>\n",
       "    <tr>\n",
       "      <th>Homeground Coffee Roasters</th>\n",
       "      <td>https://homegroundcoffeeroasters.com/collectio...</td>\n",
       "      <td>Shopify</td>\n",
       "      <td>True</td>\n",
       "    </tr>\n",
       "    <tr>\n",
       "      <th>Kurasu</th>\n",
       "      <td>https://kurasu.kyoto/collections/whole-beans</td>\n",
       "      <td>Shopify</td>\n",
       "      <td>True</td>\n",
       "    </tr>\n",
       "    <tr>\n",
       "      <th>Narrative Coffee Stand</th>\n",
       "      <td>https://narrativecoffeestand.com/collections/f...</td>\n",
       "      <td>Shopify</td>\n",
       "      <td>True</td>\n",
       "    </tr>\n",
       "    <tr>\n",
       "      <th>Parchmen &amp; Co</th>\n",
       "      <td>https://www.parchmen.co/collections/americas</td>\n",
       "      <td>Shopify</td>\n",
       "      <td>True</td>\n",
       "    </tr>\n",
       "    <tr>\n",
       "      <th>PPP Coffee</th>\n",
       "      <td>https://pppcoffee.com/collections/beans</td>\n",
       "      <td>Shopify</td>\n",
       "      <td>True</td>\n",
       "    </tr>\n",
       "    <tr>\n",
       "      <th>Shake Coffee</th>\n",
       "      <td>https://shake.coffee/collections/pantry</td>\n",
       "      <td>Shopify</td>\n",
       "      <td>True</td>\n",
       "    </tr>\n",
       "    <tr>\n",
       "      <th>Small Waves</th>\n",
       "      <td>https://smallwaves.coffee/collections/coffee</td>\n",
       "      <td>Shopify</td>\n",
       "      <td>True</td>\n",
       "    </tr>\n",
       "    <tr>\n",
       "      <th>Tiong Hoe Coffee</th>\n",
       "      <td>https://tionghoe.com/collections/roasted-beans</td>\n",
       "      <td>Shopify</td>\n",
       "      <td>True</td>\n",
       "    </tr>\n",
       "    <tr>\n",
       "      <th>Upside Down Coffee</th>\n",
       "      <td>https://upsidedown.coffee/collections/all-coffee</td>\n",
       "      <td>Shopify</td>\n",
       "      <td>True</td>\n",
       "    </tr>\n",
       "    <tr>\n",
       "      <th>Zerah Coffee Roasters</th>\n",
       "      <td>https://zerahcoffeeroasters.com/</td>\n",
       "      <td>Shopify</td>\n",
       "      <td>True</td>\n",
       "    </tr>\n",
       "  </tbody>\n",
       "</table>\n",
       "</div>"
      ],
      "text/plain": [
       "                                                                         Link  \\\n",
       "Name                                                                            \n",
       "Bettr                           https://bettr.coffee/collections/coffee-beans   \n",
       "Bloom Coffee                      https://bloomwithcoffee.com/collections/all   \n",
       "Cata Coffee                   https://catacoffee.com/collections/coffee-beans   \n",
       "Cumulo Coffee               https://www.cumulocoffee.com/collections/coffe...   \n",
       "Doubleup Coffee             https://doubleup-coffee.com/collections/coffee...   \n",
       "Dutch Colony Coffee           https://www.dutchcolony.sg/collections/coffee-2   \n",
       "Fluid Collective            https://fluidcollective.co/collections/retail-...   \n",
       "Glyph Supply Co                    https://www.glyphsupply.co/collections/all   \n",
       "Homeground Coffee Roasters  https://homegroundcoffeeroasters.com/collectio...   \n",
       "Kurasu                           https://kurasu.kyoto/collections/whole-beans   \n",
       "Narrative Coffee Stand      https://narrativecoffeestand.com/collections/f...   \n",
       "Parchmen & Co                    https://www.parchmen.co/collections/americas   \n",
       "PPP Coffee                            https://pppcoffee.com/collections/beans   \n",
       "Shake Coffee                          https://shake.coffee/collections/pantry   \n",
       "Small Waves                      https://smallwaves.coffee/collections/coffee   \n",
       "Tiong Hoe Coffee               https://tionghoe.com/collections/roasted-beans   \n",
       "Upside Down Coffee           https://upsidedown.coffee/collections/all-coffee   \n",
       "Zerah Coffee Roasters                        https://zerahcoffeeroasters.com/   \n",
       "\n",
       "                           Platform  Scrape_Image  \n",
       "Name                                               \n",
       "Bettr                       Shopify          True  \n",
       "Bloom Coffee                Shopify          True  \n",
       "Cata Coffee                 Shopify          True  \n",
       "Cumulo Coffee               Shopify          True  \n",
       "Doubleup Coffee             Shopify          True  \n",
       "Dutch Colony Coffee         Shopify          True  \n",
       "Fluid Collective            Shopify          True  \n",
       "Glyph Supply Co             Shopify          True  \n",
       "Homeground Coffee Roasters  Shopify          True  \n",
       "Kurasu                      Shopify          True  \n",
       "Narrative Coffee Stand      Shopify          True  \n",
       "Parchmen & Co               Shopify          True  \n",
       "PPP Coffee                  Shopify          True  \n",
       "Shake Coffee                Shopify          True  \n",
       "Small Waves                 Shopify          True  \n",
       "Tiong Hoe Coffee            Shopify          True  \n",
       "Upside Down Coffee          Shopify          True  \n",
       "Zerah Coffee Roasters       Shopify          True  "
      ]
     },
     "execution_count": 64,
     "metadata": {},
     "output_type": "execute_result"
    }
   ],
   "source": [
    "shopify_sites[shopify_sites['Scrape_Image']]"
   ]
  },
  {
   "cell_type": "code",
   "execution_count": 65,
   "metadata": {},
   "outputs": [],
   "source": [
    "nonolist = ['Equipment', 'Brewer', 'Merchandise']"
   ]
  },
  {
   "cell_type": "code",
   "execution_count": 82,
   "metadata": {},
   "outputs": [
    {
     "name": "stdout",
     "output_type": "stream",
     "text": [
      "Bettr Eureka https://cdn.shopify.com/s/files/1/0164/9429/7142/files/1_7a8bbcf9-0dcf-4a8e-8f6f-eb6ed4952247.png?v=1701934204\n",
      "Bettr Eureka https://cdn.shopify.com/s/files/1/0164/9429/7142/files/MadeWithPassionSG_9b52628e-a7d8-4a0a-8bc2-69276c125396.png?v=1707987386\n"
     ]
    },
    {
     "ename": "KeyboardInterrupt",
     "evalue": "",
     "output_type": "error",
     "traceback": [
      "\u001b[0;31m---------------------------------------------------------------------------\u001b[0m",
      "\u001b[0;31mKeyboardInterrupt\u001b[0m                         Traceback (most recent call last)",
      "Cell \u001b[0;32mIn[82], line 15\u001b[0m\n\u001b[1;32m     13\u001b[0m     url \u001b[38;5;241m=\u001b[39m img[\u001b[38;5;124m'\u001b[39m\u001b[38;5;124msrc\u001b[39m\u001b[38;5;124m'\u001b[39m]\n\u001b[1;32m     14\u001b[0m     \u001b[38;5;28mprint\u001b[39m(i, prod_name, url)\n\u001b[0;32m---> 15\u001b[0m     img_text \u001b[38;5;241m=\u001b[39m \u001b[43mparse_image\u001b[49m\u001b[43m(\u001b[49m\u001b[43murl\u001b[49m\u001b[43m)\u001b[49m \u001b[38;5;66;03m# convert the image text to string\u001b[39;00m\n\u001b[1;32m     16\u001b[0m     product_text \u001b[38;5;241m+\u001b[39m\u001b[38;5;241m=\u001b[39m img_text\n\u001b[1;32m     17\u001b[0m clean_product_text \u001b[38;5;241m=\u001b[39m \u001b[38;5;124m\"\u001b[39m\u001b[38;5;124m\"\u001b[39m\u001b[38;5;241m.\u001b[39mjoin(product_text)\n",
      "Cell \u001b[0;32mIn[80], line 4\u001b[0m, in \u001b[0;36mparse_image\u001b[0;34m(url)\u001b[0m\n\u001b[1;32m      2\u001b[0m response \u001b[38;5;241m=\u001b[39m requests\u001b[38;5;241m.\u001b[39mget(url)\n\u001b[1;32m      3\u001b[0m img \u001b[38;5;241m=\u001b[39m np\u001b[38;5;241m.\u001b[39marray(Image\u001b[38;5;241m.\u001b[39mopen(BytesIO(response\u001b[38;5;241m.\u001b[39mcontent))\u001b[38;5;241m.\u001b[39mconvert(\u001b[38;5;124m'\u001b[39m\u001b[38;5;124mL\u001b[39m\u001b[38;5;124m'\u001b[39m))\n\u001b[0;32m----> 4\u001b[0m text \u001b[38;5;241m=\u001b[39m \u001b[43mreader\u001b[49m\u001b[38;5;241;43m.\u001b[39;49m\u001b[43mreadtext\u001b[49m\u001b[43m(\u001b[49m\u001b[43mimg\u001b[49m\u001b[43m)\u001b[49m\n\u001b[1;32m      5\u001b[0m text_confident \u001b[38;5;241m=\u001b[39m [t \u001b[38;5;28;01mfor\u001b[39;00m bbox, t, prob \u001b[38;5;129;01min\u001b[39;00m text \u001b[38;5;28;01mif\u001b[39;00m prob \u001b[38;5;241m>\u001b[39m \u001b[38;5;241m0.5\u001b[39m]\n\u001b[1;32m      6\u001b[0m \u001b[38;5;28;01mreturn\u001b[39;00m text_confident\n",
      "File \u001b[0;32m~/opt/anaconda3/envs/projects_env/lib/python3.12/site-packages/easyocr/easyocr.py:456\u001b[0m, in \u001b[0;36mReader.readtext\u001b[0;34m(self, image, decoder, beamWidth, batch_size, workers, allowlist, blocklist, detail, rotation_info, paragraph, min_size, contrast_ths, adjust_contrast, filter_ths, text_threshold, low_text, link_threshold, canvas_size, mag_ratio, slope_ths, ycenter_ths, height_ths, width_ths, y_ths, x_ths, add_margin, threshold, bbox_min_score, bbox_min_size, max_candidates, output_format)\u001b[0m\n\u001b[1;32m    450\u001b[0m \u001b[38;5;250m\u001b[39m\u001b[38;5;124;03m'''\u001b[39;00m\n\u001b[1;32m    451\u001b[0m \u001b[38;5;124;03mParameters:\u001b[39;00m\n\u001b[1;32m    452\u001b[0m \u001b[38;5;124;03mimage: file path or numpy-array or a byte stream object\u001b[39;00m\n\u001b[1;32m    453\u001b[0m \u001b[38;5;124;03m'''\u001b[39;00m\n\u001b[1;32m    454\u001b[0m img, img_cv_grey \u001b[38;5;241m=\u001b[39m reformat_input(image)\n\u001b[0;32m--> 456\u001b[0m horizontal_list, free_list \u001b[38;5;241m=\u001b[39m \u001b[38;5;28;43mself\u001b[39;49m\u001b[38;5;241;43m.\u001b[39;49m\u001b[43mdetect\u001b[49m\u001b[43m(\u001b[49m\u001b[43mimg\u001b[49m\u001b[43m,\u001b[49m\u001b[43m \u001b[49m\n\u001b[1;32m    457\u001b[0m \u001b[43m                                         \u001b[49m\u001b[43mmin_size\u001b[49m\u001b[43m \u001b[49m\u001b[38;5;241;43m=\u001b[39;49m\u001b[43m \u001b[49m\u001b[43mmin_size\u001b[49m\u001b[43m,\u001b[49m\u001b[43m \u001b[49m\u001b[43mtext_threshold\u001b[49m\u001b[43m \u001b[49m\u001b[38;5;241;43m=\u001b[39;49m\u001b[43m \u001b[49m\u001b[43mtext_threshold\u001b[49m\u001b[43m,\u001b[49m\u001b[43m\\\u001b[49m\n\u001b[1;32m    458\u001b[0m \u001b[43m                                         \u001b[49m\u001b[43mlow_text\u001b[49m\u001b[43m \u001b[49m\u001b[38;5;241;43m=\u001b[39;49m\u001b[43m \u001b[49m\u001b[43mlow_text\u001b[49m\u001b[43m,\u001b[49m\u001b[43m \u001b[49m\u001b[43mlink_threshold\u001b[49m\u001b[43m \u001b[49m\u001b[38;5;241;43m=\u001b[39;49m\u001b[43m \u001b[49m\u001b[43mlink_threshold\u001b[49m\u001b[43m,\u001b[49m\u001b[43m\\\u001b[49m\n\u001b[1;32m    459\u001b[0m \u001b[43m                                         \u001b[49m\u001b[43mcanvas_size\u001b[49m\u001b[43m \u001b[49m\u001b[38;5;241;43m=\u001b[39;49m\u001b[43m \u001b[49m\u001b[43mcanvas_size\u001b[49m\u001b[43m,\u001b[49m\u001b[43m \u001b[49m\u001b[43mmag_ratio\u001b[49m\u001b[43m \u001b[49m\u001b[38;5;241;43m=\u001b[39;49m\u001b[43m \u001b[49m\u001b[43mmag_ratio\u001b[49m\u001b[43m,\u001b[49m\u001b[43m\\\u001b[49m\n\u001b[1;32m    460\u001b[0m \u001b[43m                                         \u001b[49m\u001b[43mslope_ths\u001b[49m\u001b[43m \u001b[49m\u001b[38;5;241;43m=\u001b[39;49m\u001b[43m \u001b[49m\u001b[43mslope_ths\u001b[49m\u001b[43m,\u001b[49m\u001b[43m \u001b[49m\u001b[43mycenter_ths\u001b[49m\u001b[43m \u001b[49m\u001b[38;5;241;43m=\u001b[39;49m\u001b[43m \u001b[49m\u001b[43mycenter_ths\u001b[49m\u001b[43m,\u001b[49m\u001b[43m\\\u001b[49m\n\u001b[1;32m    461\u001b[0m \u001b[43m                                         \u001b[49m\u001b[43mheight_ths\u001b[49m\u001b[43m \u001b[49m\u001b[38;5;241;43m=\u001b[39;49m\u001b[43m \u001b[49m\u001b[43mheight_ths\u001b[49m\u001b[43m,\u001b[49m\u001b[43m \u001b[49m\u001b[43mwidth_ths\u001b[49m\u001b[38;5;241;43m=\u001b[39;49m\u001b[43m \u001b[49m\u001b[43mwidth_ths\u001b[49m\u001b[43m,\u001b[49m\u001b[43m\\\u001b[49m\n\u001b[1;32m    462\u001b[0m \u001b[43m                                         \u001b[49m\u001b[43madd_margin\u001b[49m\u001b[43m \u001b[49m\u001b[38;5;241;43m=\u001b[39;49m\u001b[43m \u001b[49m\u001b[43madd_margin\u001b[49m\u001b[43m,\u001b[49m\u001b[43m \u001b[49m\u001b[43mreformat\u001b[49m\u001b[43m \u001b[49m\u001b[38;5;241;43m=\u001b[39;49m\u001b[43m \u001b[49m\u001b[38;5;28;43;01mFalse\u001b[39;49;00m\u001b[43m,\u001b[49m\u001b[43m\\\u001b[49m\n\u001b[1;32m    463\u001b[0m \u001b[43m                                         \u001b[49m\u001b[43mthreshold\u001b[49m\u001b[43m \u001b[49m\u001b[38;5;241;43m=\u001b[39;49m\u001b[43m \u001b[49m\u001b[43mthreshold\u001b[49m\u001b[43m,\u001b[49m\u001b[43m \u001b[49m\u001b[43mbbox_min_score\u001b[49m\u001b[43m \u001b[49m\u001b[38;5;241;43m=\u001b[39;49m\u001b[43m \u001b[49m\u001b[43mbbox_min_score\u001b[49m\u001b[43m,\u001b[49m\u001b[43m\\\u001b[49m\n\u001b[1;32m    464\u001b[0m \u001b[43m                                         \u001b[49m\u001b[43mbbox_min_size\u001b[49m\u001b[43m \u001b[49m\u001b[38;5;241;43m=\u001b[39;49m\u001b[43m \u001b[49m\u001b[43mbbox_min_size\u001b[49m\u001b[43m,\u001b[49m\u001b[43m \u001b[49m\u001b[43mmax_candidates\u001b[49m\u001b[43m \u001b[49m\u001b[38;5;241;43m=\u001b[39;49m\u001b[43m \u001b[49m\u001b[43mmax_candidates\u001b[49m\n\u001b[1;32m    465\u001b[0m \u001b[43m                                         \u001b[49m\u001b[43m)\u001b[49m\n\u001b[1;32m    466\u001b[0m \u001b[38;5;66;03m# get the 1st result from hor & free list as self.detect returns a list of depth 3\u001b[39;00m\n\u001b[1;32m    467\u001b[0m horizontal_list, free_list \u001b[38;5;241m=\u001b[39m horizontal_list[\u001b[38;5;241m0\u001b[39m], free_list[\u001b[38;5;241m0\u001b[39m]\n",
      "File \u001b[0;32m~/opt/anaconda3/envs/projects_env/lib/python3.12/site-packages/easyocr/easyocr.py:321\u001b[0m, in \u001b[0;36mReader.detect\u001b[0;34m(self, img, min_size, text_threshold, low_text, link_threshold, canvas_size, mag_ratio, slope_ths, ycenter_ths, height_ths, width_ths, add_margin, reformat, optimal_num_chars, threshold, bbox_min_score, bbox_min_size, max_candidates)\u001b[0m\n\u001b[1;32m    318\u001b[0m \u001b[38;5;28;01mif\u001b[39;00m reformat:\n\u001b[1;32m    319\u001b[0m     img, img_cv_grey \u001b[38;5;241m=\u001b[39m reformat_input(img)\n\u001b[0;32m--> 321\u001b[0m text_box_list \u001b[38;5;241m=\u001b[39m \u001b[38;5;28;43mself\u001b[39;49m\u001b[38;5;241;43m.\u001b[39;49m\u001b[43mget_textbox\u001b[49m\u001b[43m(\u001b[49m\u001b[38;5;28;43mself\u001b[39;49m\u001b[38;5;241;43m.\u001b[39;49m\u001b[43mdetector\u001b[49m\u001b[43m,\u001b[49m\u001b[43m \u001b[49m\n\u001b[1;32m    322\u001b[0m \u001b[43m                            \u001b[49m\u001b[43mimg\u001b[49m\u001b[43m,\u001b[49m\u001b[43m \u001b[49m\n\u001b[1;32m    323\u001b[0m \u001b[43m                            \u001b[49m\u001b[43mcanvas_size\u001b[49m\u001b[43m \u001b[49m\u001b[38;5;241;43m=\u001b[39;49m\u001b[43m \u001b[49m\u001b[43mcanvas_size\u001b[49m\u001b[43m,\u001b[49m\u001b[43m \u001b[49m\n\u001b[1;32m    324\u001b[0m \u001b[43m                            \u001b[49m\u001b[43mmag_ratio\u001b[49m\u001b[43m \u001b[49m\u001b[38;5;241;43m=\u001b[39;49m\u001b[43m \u001b[49m\u001b[43mmag_ratio\u001b[49m\u001b[43m,\u001b[49m\n\u001b[1;32m    325\u001b[0m \u001b[43m                            \u001b[49m\u001b[43mtext_threshold\u001b[49m\u001b[43m \u001b[49m\u001b[38;5;241;43m=\u001b[39;49m\u001b[43m \u001b[49m\u001b[43mtext_threshold\u001b[49m\u001b[43m,\u001b[49m\u001b[43m \u001b[49m\n\u001b[1;32m    326\u001b[0m \u001b[43m                            \u001b[49m\u001b[43mlink_threshold\u001b[49m\u001b[43m \u001b[49m\u001b[38;5;241;43m=\u001b[39;49m\u001b[43m \u001b[49m\u001b[43mlink_threshold\u001b[49m\u001b[43m,\u001b[49m\u001b[43m \u001b[49m\n\u001b[1;32m    327\u001b[0m \u001b[43m                            \u001b[49m\u001b[43mlow_text\u001b[49m\u001b[43m \u001b[49m\u001b[38;5;241;43m=\u001b[39;49m\u001b[43m \u001b[49m\u001b[43mlow_text\u001b[49m\u001b[43m,\u001b[49m\n\u001b[1;32m    328\u001b[0m \u001b[43m                            \u001b[49m\u001b[43mpoly\u001b[49m\u001b[43m \u001b[49m\u001b[38;5;241;43m=\u001b[39;49m\u001b[43m \u001b[49m\u001b[38;5;28;43;01mFalse\u001b[39;49;00m\u001b[43m,\u001b[49m\u001b[43m \u001b[49m\n\u001b[1;32m    329\u001b[0m \u001b[43m                            \u001b[49m\u001b[43mdevice\u001b[49m\u001b[43m \u001b[49m\u001b[38;5;241;43m=\u001b[39;49m\u001b[43m \u001b[49m\u001b[38;5;28;43mself\u001b[39;49m\u001b[38;5;241;43m.\u001b[39;49m\u001b[43mdevice\u001b[49m\u001b[43m,\u001b[49m\u001b[43m \u001b[49m\n\u001b[1;32m    330\u001b[0m \u001b[43m                            \u001b[49m\u001b[43moptimal_num_chars\u001b[49m\u001b[43m \u001b[49m\u001b[38;5;241;43m=\u001b[39;49m\u001b[43m \u001b[49m\u001b[43moptimal_num_chars\u001b[49m\u001b[43m,\u001b[49m\n\u001b[1;32m    331\u001b[0m \u001b[43m                            \u001b[49m\u001b[43mthreshold\u001b[49m\u001b[43m \u001b[49m\u001b[38;5;241;43m=\u001b[39;49m\u001b[43m \u001b[49m\u001b[43mthreshold\u001b[49m\u001b[43m,\u001b[49m\u001b[43m \u001b[49m\n\u001b[1;32m    332\u001b[0m \u001b[43m                            \u001b[49m\u001b[43mbbox_min_score\u001b[49m\u001b[43m \u001b[49m\u001b[38;5;241;43m=\u001b[39;49m\u001b[43m \u001b[49m\u001b[43mbbox_min_score\u001b[49m\u001b[43m,\u001b[49m\u001b[43m \u001b[49m\n\u001b[1;32m    333\u001b[0m \u001b[43m                            \u001b[49m\u001b[43mbbox_min_size\u001b[49m\u001b[43m \u001b[49m\u001b[38;5;241;43m=\u001b[39;49m\u001b[43m \u001b[49m\u001b[43mbbox_min_size\u001b[49m\u001b[43m,\u001b[49m\u001b[43m \u001b[49m\n\u001b[1;32m    334\u001b[0m \u001b[43m                            \u001b[49m\u001b[43mmax_candidates\u001b[49m\u001b[43m \u001b[49m\u001b[38;5;241;43m=\u001b[39;49m\u001b[43m \u001b[49m\u001b[43mmax_candidates\u001b[49m\u001b[43m,\u001b[49m\n\u001b[1;32m    335\u001b[0m \u001b[43m                            \u001b[49m\u001b[43m)\u001b[49m\n\u001b[1;32m    337\u001b[0m horizontal_list_agg, free_list_agg \u001b[38;5;241m=\u001b[39m [], []\n\u001b[1;32m    338\u001b[0m \u001b[38;5;28;01mfor\u001b[39;00m text_box \u001b[38;5;129;01min\u001b[39;00m text_box_list:\n",
      "File \u001b[0;32m~/opt/anaconda3/envs/projects_env/lib/python3.12/site-packages/easyocr/detection.py:95\u001b[0m, in \u001b[0;36mget_textbox\u001b[0;34m(detector, image, canvas_size, mag_ratio, text_threshold, link_threshold, low_text, poly, device, optimal_num_chars, **kwargs)\u001b[0m\n\u001b[1;32m     93\u001b[0m result \u001b[38;5;241m=\u001b[39m []\n\u001b[1;32m     94\u001b[0m estimate_num_chars \u001b[38;5;241m=\u001b[39m optimal_num_chars \u001b[38;5;129;01mis\u001b[39;00m \u001b[38;5;129;01mnot\u001b[39;00m \u001b[38;5;28;01mNone\u001b[39;00m\n\u001b[0;32m---> 95\u001b[0m bboxes_list, polys_list \u001b[38;5;241m=\u001b[39m \u001b[43mtest_net\u001b[49m\u001b[43m(\u001b[49m\u001b[43mcanvas_size\u001b[49m\u001b[43m,\u001b[49m\u001b[43m \u001b[49m\u001b[43mmag_ratio\u001b[49m\u001b[43m,\u001b[49m\u001b[43m \u001b[49m\u001b[43mdetector\u001b[49m\u001b[43m,\u001b[49m\n\u001b[1;32m     96\u001b[0m \u001b[43m                                   \u001b[49m\u001b[43mimage\u001b[49m\u001b[43m,\u001b[49m\u001b[43m \u001b[49m\u001b[43mtext_threshold\u001b[49m\u001b[43m,\u001b[49m\n\u001b[1;32m     97\u001b[0m \u001b[43m                                   \u001b[49m\u001b[43mlink_threshold\u001b[49m\u001b[43m,\u001b[49m\u001b[43m \u001b[49m\u001b[43mlow_text\u001b[49m\u001b[43m,\u001b[49m\u001b[43m \u001b[49m\u001b[43mpoly\u001b[49m\u001b[43m,\u001b[49m\n\u001b[1;32m     98\u001b[0m \u001b[43m                                   \u001b[49m\u001b[43mdevice\u001b[49m\u001b[43m,\u001b[49m\u001b[43m \u001b[49m\u001b[43mestimate_num_chars\u001b[49m\u001b[43m)\u001b[49m\n\u001b[1;32m     99\u001b[0m \u001b[38;5;28;01mif\u001b[39;00m estimate_num_chars:\n\u001b[1;32m    100\u001b[0m     polys_list \u001b[38;5;241m=\u001b[39m [[p \u001b[38;5;28;01mfor\u001b[39;00m p, _ \u001b[38;5;129;01min\u001b[39;00m \u001b[38;5;28msorted\u001b[39m(polys, key\u001b[38;5;241m=\u001b[39m\u001b[38;5;28;01mlambda\u001b[39;00m x: \u001b[38;5;28mabs\u001b[39m(optimal_num_chars \u001b[38;5;241m-\u001b[39m x[\u001b[38;5;241m1\u001b[39m]))]\n\u001b[1;32m    101\u001b[0m                   \u001b[38;5;28;01mfor\u001b[39;00m polys \u001b[38;5;129;01min\u001b[39;00m polys_list]\n",
      "File \u001b[0;32m~/opt/anaconda3/envs/projects_env/lib/python3.12/site-packages/easyocr/detection.py:46\u001b[0m, in \u001b[0;36mtest_net\u001b[0;34m(canvas_size, mag_ratio, net, image, text_threshold, link_threshold, low_text, poly, device, estimate_num_chars)\u001b[0m\n\u001b[1;32m     44\u001b[0m \u001b[38;5;66;03m# forward pass\u001b[39;00m\n\u001b[1;32m     45\u001b[0m \u001b[38;5;28;01mwith\u001b[39;00m torch\u001b[38;5;241m.\u001b[39mno_grad():\n\u001b[0;32m---> 46\u001b[0m     y, feature \u001b[38;5;241m=\u001b[39m \u001b[43mnet\u001b[49m\u001b[43m(\u001b[49m\u001b[43mx\u001b[49m\u001b[43m)\u001b[49m\n\u001b[1;32m     48\u001b[0m boxes_list, polys_list \u001b[38;5;241m=\u001b[39m [], []\n\u001b[1;32m     49\u001b[0m \u001b[38;5;28;01mfor\u001b[39;00m out \u001b[38;5;129;01min\u001b[39;00m y:\n\u001b[1;32m     50\u001b[0m     \u001b[38;5;66;03m# make score and link map\u001b[39;00m\n",
      "File \u001b[0;32m~/opt/anaconda3/envs/projects_env/lib/python3.12/site-packages/torch/nn/modules/module.py:1511\u001b[0m, in \u001b[0;36mModule._wrapped_call_impl\u001b[0;34m(self, *args, **kwargs)\u001b[0m\n\u001b[1;32m   1509\u001b[0m     \u001b[38;5;28;01mreturn\u001b[39;00m \u001b[38;5;28mself\u001b[39m\u001b[38;5;241m.\u001b[39m_compiled_call_impl(\u001b[38;5;241m*\u001b[39margs, \u001b[38;5;241m*\u001b[39m\u001b[38;5;241m*\u001b[39mkwargs)  \u001b[38;5;66;03m# type: ignore[misc]\u001b[39;00m\n\u001b[1;32m   1510\u001b[0m \u001b[38;5;28;01melse\u001b[39;00m:\n\u001b[0;32m-> 1511\u001b[0m     \u001b[38;5;28;01mreturn\u001b[39;00m \u001b[38;5;28;43mself\u001b[39;49m\u001b[38;5;241;43m.\u001b[39;49m\u001b[43m_call_impl\u001b[49m\u001b[43m(\u001b[49m\u001b[38;5;241;43m*\u001b[39;49m\u001b[43margs\u001b[49m\u001b[43m,\u001b[49m\u001b[43m \u001b[49m\u001b[38;5;241;43m*\u001b[39;49m\u001b[38;5;241;43m*\u001b[39;49m\u001b[43mkwargs\u001b[49m\u001b[43m)\u001b[49m\n",
      "File \u001b[0;32m~/opt/anaconda3/envs/projects_env/lib/python3.12/site-packages/torch/nn/modules/module.py:1520\u001b[0m, in \u001b[0;36mModule._call_impl\u001b[0;34m(self, *args, **kwargs)\u001b[0m\n\u001b[1;32m   1515\u001b[0m \u001b[38;5;66;03m# If we don't have any hooks, we want to skip the rest of the logic in\u001b[39;00m\n\u001b[1;32m   1516\u001b[0m \u001b[38;5;66;03m# this function, and just call forward.\u001b[39;00m\n\u001b[1;32m   1517\u001b[0m \u001b[38;5;28;01mif\u001b[39;00m \u001b[38;5;129;01mnot\u001b[39;00m (\u001b[38;5;28mself\u001b[39m\u001b[38;5;241m.\u001b[39m_backward_hooks \u001b[38;5;129;01mor\u001b[39;00m \u001b[38;5;28mself\u001b[39m\u001b[38;5;241m.\u001b[39m_backward_pre_hooks \u001b[38;5;129;01mor\u001b[39;00m \u001b[38;5;28mself\u001b[39m\u001b[38;5;241m.\u001b[39m_forward_hooks \u001b[38;5;129;01mor\u001b[39;00m \u001b[38;5;28mself\u001b[39m\u001b[38;5;241m.\u001b[39m_forward_pre_hooks\n\u001b[1;32m   1518\u001b[0m         \u001b[38;5;129;01mor\u001b[39;00m _global_backward_pre_hooks \u001b[38;5;129;01mor\u001b[39;00m _global_backward_hooks\n\u001b[1;32m   1519\u001b[0m         \u001b[38;5;129;01mor\u001b[39;00m _global_forward_hooks \u001b[38;5;129;01mor\u001b[39;00m _global_forward_pre_hooks):\n\u001b[0;32m-> 1520\u001b[0m     \u001b[38;5;28;01mreturn\u001b[39;00m \u001b[43mforward_call\u001b[49m\u001b[43m(\u001b[49m\u001b[38;5;241;43m*\u001b[39;49m\u001b[43margs\u001b[49m\u001b[43m,\u001b[49m\u001b[43m \u001b[49m\u001b[38;5;241;43m*\u001b[39;49m\u001b[38;5;241;43m*\u001b[39;49m\u001b[43mkwargs\u001b[49m\u001b[43m)\u001b[49m\n\u001b[1;32m   1522\u001b[0m \u001b[38;5;28;01mtry\u001b[39;00m:\n\u001b[1;32m   1523\u001b[0m     result \u001b[38;5;241m=\u001b[39m \u001b[38;5;28;01mNone\u001b[39;00m\n",
      "File \u001b[0;32m~/opt/anaconda3/envs/projects_env/lib/python3.12/site-packages/easyocr/craft.py:74\u001b[0m, in \u001b[0;36mCRAFT.forward\u001b[0;34m(self, x)\u001b[0m\n\u001b[1;32m     71\u001b[0m y \u001b[38;5;241m=\u001b[39m torch\u001b[38;5;241m.\u001b[39mcat([y, sources[\u001b[38;5;241m3\u001b[39m]], dim\u001b[38;5;241m=\u001b[39m\u001b[38;5;241m1\u001b[39m)\n\u001b[1;32m     72\u001b[0m y \u001b[38;5;241m=\u001b[39m \u001b[38;5;28mself\u001b[39m\u001b[38;5;241m.\u001b[39mupconv3(y)\n\u001b[0;32m---> 74\u001b[0m y \u001b[38;5;241m=\u001b[39m \u001b[43mF\u001b[49m\u001b[38;5;241;43m.\u001b[39;49m\u001b[43minterpolate\u001b[49m\u001b[43m(\u001b[49m\u001b[43my\u001b[49m\u001b[43m,\u001b[49m\u001b[43m \u001b[49m\u001b[43msize\u001b[49m\u001b[38;5;241;43m=\u001b[39;49m\u001b[43msources\u001b[49m\u001b[43m[\u001b[49m\u001b[38;5;241;43m4\u001b[39;49m\u001b[43m]\u001b[49m\u001b[38;5;241;43m.\u001b[39;49m\u001b[43msize\u001b[49m\u001b[43m(\u001b[49m\u001b[43m)\u001b[49m\u001b[43m[\u001b[49m\u001b[38;5;241;43m2\u001b[39;49m\u001b[43m:\u001b[49m\u001b[43m]\u001b[49m\u001b[43m,\u001b[49m\u001b[43m \u001b[49m\u001b[43mmode\u001b[49m\u001b[38;5;241;43m=\u001b[39;49m\u001b[38;5;124;43m'\u001b[39;49m\u001b[38;5;124;43mbilinear\u001b[39;49m\u001b[38;5;124;43m'\u001b[39;49m\u001b[43m,\u001b[49m\u001b[43m \u001b[49m\u001b[43malign_corners\u001b[49m\u001b[38;5;241;43m=\u001b[39;49m\u001b[38;5;28;43;01mFalse\u001b[39;49;00m\u001b[43m)\u001b[49m\n\u001b[1;32m     75\u001b[0m y \u001b[38;5;241m=\u001b[39m torch\u001b[38;5;241m.\u001b[39mcat([y, sources[\u001b[38;5;241m4\u001b[39m]], dim\u001b[38;5;241m=\u001b[39m\u001b[38;5;241m1\u001b[39m)\n\u001b[1;32m     76\u001b[0m feature \u001b[38;5;241m=\u001b[39m \u001b[38;5;28mself\u001b[39m\u001b[38;5;241m.\u001b[39mupconv4(y)\n",
      "File \u001b[0;32m~/opt/anaconda3/envs/projects_env/lib/python3.12/site-packages/torch/nn/functional.py:4038\u001b[0m, in \u001b[0;36minterpolate\u001b[0;34m(input, size, scale_factor, mode, align_corners, recompute_scale_factor, antialias)\u001b[0m\n\u001b[1;32m   4032\u001b[0m         \u001b[38;5;28;01mif\u001b[39;00m torch\u001b[38;5;241m.\u001b[39mare_deterministic_algorithms_enabled() \u001b[38;5;129;01mand\u001b[39;00m \u001b[38;5;28minput\u001b[39m\u001b[38;5;241m.\u001b[39mis_cuda:\n\u001b[1;32m   4033\u001b[0m             \u001b[38;5;66;03m# Use slow decomp whose backward will be in terms of index_put\u001b[39;00m\n\u001b[1;32m   4034\u001b[0m             \u001b[38;5;66;03m# importlib is required because the import cannot be top level\u001b[39;00m\n\u001b[1;32m   4035\u001b[0m             \u001b[38;5;66;03m# (cycle) and cannot be nested (TS doesn't support)\u001b[39;00m\n\u001b[1;32m   4036\u001b[0m             \u001b[38;5;28;01mreturn\u001b[39;00m importlib\u001b[38;5;241m.\u001b[39mimport_module(\u001b[38;5;124m'\u001b[39m\u001b[38;5;124mtorch._decomp.decompositions\u001b[39m\u001b[38;5;124m'\u001b[39m)\u001b[38;5;241m.\u001b[39mupsample_bilinear2d_vec(\n\u001b[1;32m   4037\u001b[0m                 \u001b[38;5;28minput\u001b[39m, output_size, align_corners, scale_factors)\n\u001b[0;32m-> 4038\u001b[0m     \u001b[38;5;28;01mreturn\u001b[39;00m \u001b[43mtorch\u001b[49m\u001b[38;5;241;43m.\u001b[39;49m\u001b[43m_C\u001b[49m\u001b[38;5;241;43m.\u001b[39;49m\u001b[43m_nn\u001b[49m\u001b[38;5;241;43m.\u001b[39;49m\u001b[43mupsample_bilinear2d\u001b[49m\u001b[43m(\u001b[49m\u001b[38;5;28;43minput\u001b[39;49m\u001b[43m,\u001b[49m\u001b[43m \u001b[49m\u001b[43moutput_size\u001b[49m\u001b[43m,\u001b[49m\u001b[43m \u001b[49m\u001b[43malign_corners\u001b[49m\u001b[43m,\u001b[49m\u001b[43m \u001b[49m\u001b[43mscale_factors\u001b[49m\u001b[43m)\u001b[49m\n\u001b[1;32m   4039\u001b[0m \u001b[38;5;28;01mif\u001b[39;00m \u001b[38;5;28minput\u001b[39m\u001b[38;5;241m.\u001b[39mdim() \u001b[38;5;241m==\u001b[39m \u001b[38;5;241m5\u001b[39m \u001b[38;5;129;01mand\u001b[39;00m mode \u001b[38;5;241m==\u001b[39m \u001b[38;5;124m\"\u001b[39m\u001b[38;5;124mtrilinear\u001b[39m\u001b[38;5;124m\"\u001b[39m:\n\u001b[1;32m   4040\u001b[0m     \u001b[38;5;28;01massert\u001b[39;00m align_corners \u001b[38;5;129;01mis\u001b[39;00m \u001b[38;5;129;01mnot\u001b[39;00m \u001b[38;5;28;01mNone\u001b[39;00m\n",
      "\u001b[0;31mKeyboardInterrupt\u001b[0m: "
     ]
    }
   ],
   "source": [
    "# this works in theory but it's too slow\n",
    "all_shopify_product_image_description = pd.DataFrame()\n",
    "for i in shopify_sites[shopify_sites['Scrape_Image']].index[0:1]:\n",
    "    json_pdt = shopifyJsonProducts[i]\n",
    "    mask_noscrape = json_pdt[~json_pdt['product_type'].isin(nonolist)]\n",
    "    imgs_to_scrape = mask_noscrape['images'] # each store's products\n",
    "    product_name = mask_noscrape['title']\n",
    "\n",
    "    store_product_texts = pd.DataFrame()\n",
    "    for prod_name, img_set in zip(product_name, imgs_to_scrape): # for each product\n",
    "        product_text = []\n",
    "        for img in img_set: # each image in each product\n",
    "            url = img['src']\n",
    "            print(i, prod_name, url)\n",
    "            img_text = parse_image(url) # convert the image text to string\n",
    "            product_text += img_text\n",
    "        clean_product_text = \"\".join(product_text)\n",
    "        clean_product_text = clean_product_text.replace(\"\\n\", \" \")\n",
    "        product_df = pd.DataFrame(data = {'store': i, 'title': prod_name, 'image_description': clean_product_text}, index = [0])\n",
    "        store_product_texts = pd.concat([store_product_texts, product_df], axis = 0)\n",
    "    all_shopify_product_image_description = pd.concat([all_shopify_product_image_description, store_product_texts], axis = 0)"
   ]
  },
  {
   "cell_type": "markdown",
   "metadata": {},
   "source": [
    "# Squarespace"
   ]
  },
  {
   "cell_type": "code",
   "execution_count": 18,
   "metadata": {},
   "outputs": [],
   "source": [
    "sqspace_sites = SGcoffee[SGcoffee.Platform == \"Squarespace\"]"
   ]
  },
  {
   "cell_type": "code",
   "execution_count": 19,
   "metadata": {},
   "outputs": [
    {
     "data": {
      "text/html": [
       "<div>\n",
       "<style scoped>\n",
       "    .dataframe tbody tr th:only-of-type {\n",
       "        vertical-align: middle;\n",
       "    }\n",
       "\n",
       "    .dataframe tbody tr th {\n",
       "        vertical-align: top;\n",
       "    }\n",
       "\n",
       "    .dataframe thead th {\n",
       "        text-align: right;\n",
       "    }\n",
       "</style>\n",
       "<table border=\"1\" class=\"dataframe\">\n",
       "  <thead>\n",
       "    <tr style=\"text-align: right;\">\n",
       "      <th></th>\n",
       "      <th>Link</th>\n",
       "      <th>Platform</th>\n",
       "    </tr>\n",
       "    <tr>\n",
       "      <th>Name</th>\n",
       "      <th></th>\n",
       "      <th></th>\n",
       "    </tr>\n",
       "  </thead>\n",
       "  <tbody>\n",
       "    <tr>\n",
       "      <th>Alchemist</th>\n",
       "      <td>https://alchemist.com.sg/coffee-beans</td>\n",
       "      <td>Squarespace</td>\n",
       "    </tr>\n",
       "    <tr>\n",
       "      <th>Kyuukei Coffee</th>\n",
       "      <td>https://kyuukeicoffee.com/store/coffee-beans</td>\n",
       "      <td>Squarespace</td>\n",
       "    </tr>\n",
       "    <tr>\n",
       "      <th>Maxi Coffee Bar</th>\n",
       "      <td>https://maxicoffeebar.com/shop/coffee</td>\n",
       "      <td>Squarespace</td>\n",
       "    </tr>\n",
       "    <tr>\n",
       "      <th>Nylon Coffee Roasters</th>\n",
       "      <td>https://nylon.coffee/shop</td>\n",
       "      <td>Squarespace</td>\n",
       "    </tr>\n",
       "    <tr>\n",
       "      <th>Parallel Coffee Roastes</th>\n",
       "      <td>https://www.parallelcoffeeroasters.com/shop/fi...</td>\n",
       "      <td>Squarespace</td>\n",
       "    </tr>\n",
       "    <tr>\n",
       "      <th>Skill Issue</th>\n",
       "      <td>https://skillissue.coffee</td>\n",
       "      <td>Squarespace</td>\n",
       "    </tr>\n",
       "  </tbody>\n",
       "</table>\n",
       "</div>"
      ],
      "text/plain": [
       "                                                                      Link  \\\n",
       "Name                                                                         \n",
       "Alchemist                            https://alchemist.com.sg/coffee-beans   \n",
       "Kyuukei Coffee                https://kyuukeicoffee.com/store/coffee-beans   \n",
       "Maxi Coffee Bar                      https://maxicoffeebar.com/shop/coffee   \n",
       "Nylon Coffee Roasters                            https://nylon.coffee/shop   \n",
       "Parallel Coffee Roastes  https://www.parallelcoffeeroasters.com/shop/fi...   \n",
       "Skill Issue                                      https://skillissue.coffee   \n",
       "\n",
       "                            Platform  \n",
       "Name                                  \n",
       "Alchemist                Squarespace  \n",
       "Kyuukei Coffee           Squarespace  \n",
       "Maxi Coffee Bar          Squarespace  \n",
       "Nylon Coffee Roasters    Squarespace  \n",
       "Parallel Coffee Roastes  Squarespace  \n",
       "Skill Issue              Squarespace  "
      ]
     },
     "execution_count": 19,
     "metadata": {},
     "output_type": "execute_result"
    }
   ],
   "source": [
    "sqspace_sites"
   ]
  },
  {
   "cell_type": "code",
   "execution_count": 22,
   "metadata": {},
   "outputs": [
    {
     "name": "stdout",
     "output_type": "stream",
     "text": [
      "Alchemist\n",
      "Kyuukei Coffee\n",
      "Maxi Coffee Bar\n",
      "Nylon Coffee Roasters\n",
      "Parallel Coffee Roastes\n",
      "Skill Issue\n"
     ]
    }
   ],
   "source": [
    "sqspaceJsonLink = {}\n",
    "sqspaceJsonProducts = {}\n",
    "for i in sqspace_sites.index:\n",
    "    print(i)\n",
    "    jlnk = build_url(sqspace_sites.loc[i, \"Link\"], platform=\"Squarespace\")\n",
    "    sqspaceJsonLink[i] = jlnk\n",
    "    pdt = get_products(jlnk, platform=\"Squarespace\")\n",
    "    sqspaceJsonProducts[i] = pd.DataFrame.from_dict(pdt)\n"
   ]
  },
  {
   "cell_type": "code",
   "execution_count": 70,
   "metadata": {},
   "outputs": [
    {
     "data": {
      "text/plain": [
       "0    <p>Varietal: Green-Tip Gesha</p><p>Region: Tiz...\n",
       "1    <p>Varietal: Green-Tip Gesha</p><p>Region: Vol...\n",
       "2    <p>Varietal: Green-Tip Gesha</p><p>Region: Tiz...\n",
       "3    <p class=\"\" style=\"white-space:pre-wrap;\">Vari...\n",
       "Name: excerpt, dtype: object"
      ]
     },
     "execution_count": 70,
     "metadata": {},
     "output_type": "execute_result"
    }
   ],
   "source": [
    "sqspaceJsonProducts['Kyuukei Coffee']"
   ]
  },
  {
   "cell_type": "code",
   "execution_count": 115,
   "metadata": {},
   "outputs": [],
   "source": [
    "all_squarespace_products = get_product_details(sqspaceJsonProducts, platform=\"Squarespace\")"
   ]
  },
  {
   "cell_type": "code",
   "execution_count": 116,
   "metadata": {},
   "outputs": [
    {
     "data": {
      "text/html": [
       "<div>\n",
       "<style scoped>\n",
       "    .dataframe tbody tr th:only-of-type {\n",
       "        vertical-align: middle;\n",
       "    }\n",
       "\n",
       "    .dataframe tbody tr th {\n",
       "        vertical-align: top;\n",
       "    }\n",
       "\n",
       "    .dataframe thead th {\n",
       "        text-align: right;\n",
       "    }\n",
       "</style>\n",
       "<table border=\"1\" class=\"dataframe\">\n",
       "  <thead>\n",
       "    <tr style=\"text-align: right;\">\n",
       "      <th></th>\n",
       "      <th>store</th>\n",
       "      <th>product</th>\n",
       "      <th>description</th>\n",
       "    </tr>\n",
       "  </thead>\n",
       "  <tbody>\n",
       "    <tr>\n",
       "      <th>0</th>\n",
       "      <td>Alchemist</td>\n",
       "      <td>Mandela</td>\n",
       "      <td>Mandela is the perfect example of Cafe Granja ...</td>\n",
       "    </tr>\n",
       "    <tr>\n",
       "      <th>1</th>\n",
       "      <td>Alchemist</td>\n",
       "      <td>Haru Suke</td>\n",
       "      <td>Yirgacheffe lies in the southern part of Ethio...</td>\n",
       "    </tr>\n",
       "    <tr>\n",
       "      <th>2</th>\n",
       "      <td>Alchemist</td>\n",
       "      <td>Koke Shalaye</td>\n",
       "      <td>Koke Shalaye is from a collection of smallhold...</td>\n",
       "    </tr>\n",
       "    <tr>\n",
       "      <th>3</th>\n",
       "      <td>Alchemist</td>\n",
       "      <td>Abu GW1</td>\n",
       "      <td>Situated in Boquete, Cañas Verdes, a humid and...</td>\n",
       "    </tr>\n",
       "    <tr>\n",
       "      <th>4</th>\n",
       "      <td>Alchemist</td>\n",
       "      <td>El Arenal</td>\n",
       "      <td>Nicaragua, known for its lakes and volcanoes i...</td>\n",
       "    </tr>\n",
       "    <tr>\n",
       "      <th>...</th>\n",
       "      <td>...</td>\n",
       "      <td>...</td>\n",
       "      <td>...</td>\n",
       "    </tr>\n",
       "    <tr>\n",
       "      <th>69</th>\n",
       "      <td>Skill Issue</td>\n",
       "      <td>Southern Star #5</td>\n",
       "      <td>Impressed by the quality of coffee on the nati...</td>\n",
       "    </tr>\n",
       "    <tr>\n",
       "      <th>70</th>\n",
       "      <td>Skill Issue</td>\n",
       "      <td>Finca Bella Vista</td>\n",
       "      <td>An Ethiopian lite. But without the fines that ...</td>\n",
       "    </tr>\n",
       "    <tr>\n",
       "      <th>71</th>\n",
       "      <td>Skill Issue</td>\n",
       "      <td>Capim Branco</td>\n",
       "      <td>A coffee family spanning 5 generations, Capim ...</td>\n",
       "    </tr>\n",
       "    <tr>\n",
       "      <th>72</th>\n",
       "      <td>Skill Issue</td>\n",
       "      <td>Kirinyaga AA</td>\n",
       "      <td>A classic washed Kenyan from smallholders in N...</td>\n",
       "    </tr>\n",
       "    <tr>\n",
       "      <th>73</th>\n",
       "      <td>Skill Issue</td>\n",
       "      <td>Villa Triunfo</td>\n",
       "      <td>Confused as to what the Starmaya varietal is? ...</td>\n",
       "    </tr>\n",
       "  </tbody>\n",
       "</table>\n",
       "<p>74 rows × 3 columns</p>\n",
       "</div>"
      ],
      "text/plain": [
       "          store            product  \\\n",
       "0     Alchemist            Mandela   \n",
       "1     Alchemist          Haru Suke   \n",
       "2     Alchemist       Koke Shalaye   \n",
       "3     Alchemist            Abu GW1   \n",
       "4     Alchemist          El Arenal   \n",
       "..          ...                ...   \n",
       "69  Skill Issue   Southern Star #5   \n",
       "70  Skill Issue  Finca Bella Vista   \n",
       "71  Skill Issue       Capim Branco   \n",
       "72  Skill Issue       Kirinyaga AA   \n",
       "73  Skill Issue      Villa Triunfo   \n",
       "\n",
       "                                          description  \n",
       "0   Mandela is the perfect example of Cafe Granja ...  \n",
       "1   Yirgacheffe lies in the southern part of Ethio...  \n",
       "2   Koke Shalaye is from a collection of smallhold...  \n",
       "3   Situated in Boquete, Cañas Verdes, a humid and...  \n",
       "4   Nicaragua, known for its lakes and volcanoes i...  \n",
       "..                                                ...  \n",
       "69  Impressed by the quality of coffee on the nati...  \n",
       "70  An Ethiopian lite. But without the fines that ...  \n",
       "71  A coffee family spanning 5 generations, Capim ...  \n",
       "72  A classic washed Kenyan from smallholders in N...  \n",
       "73  Confused as to what the Starmaya varietal is? ...  \n",
       "\n",
       "[74 rows x 3 columns]"
      ]
     },
     "execution_count": 116,
     "metadata": {},
     "output_type": "execute_result"
    }
   ],
   "source": [
    "all_squarespace_products"
   ]
  },
  {
   "cell_type": "markdown",
   "metadata": {},
   "source": [
    "# Writing data to csv"
   ]
  },
  {
   "cell_type": "code",
   "execution_count": 152,
   "metadata": {},
   "outputs": [],
   "source": [
    "all_data = pd.concat([all_shopify_products, all_squarespace_products], axis=0)\n",
    "all_data = all_data.reset_index(drop=True)"
   ]
  },
  {
   "cell_type": "code",
   "execution_count": 153,
   "metadata": {},
   "outputs": [],
   "source": [
    "all_data.to_excel(\"database_products.xlsx\", index=False)"
   ]
  },
  {
   "cell_type": "markdown",
   "metadata": {},
   "source": [
    "# Extract Flavour Notes"
   ]
  },
  {
   "cell_type": "code",
   "execution_count": 169,
   "metadata": {},
   "outputs": [],
   "source": [
    "matches_found = pd.DataFrame()\n",
    "for i in all_data.index:\n",
    "    text = all_data.loc[i, \"description\"]\n",
    "    matches = extract_flavor_notes(text, ['yogurt', 'yoghurt'])\n",
    "    if len(matches) > 0:\n",
    "        matches_found = pd.concat([matches_found, all_data.iloc[[i]]], axis = 0)"
   ]
  },
  {
   "cell_type": "code",
   "execution_count": 22,
   "metadata": {},
   "outputs": [
    {
     "data": {
      "text/plain": [
       "dict_keys(['2 Degrees North', '20 grams', 'Asylum Coffeehouse', 'Bettr', 'Bloom Coffee', 'Brawn and Brains', 'Cata Coffee', 'Cumulo Coffee', 'Doubleup Coffee', 'Dutch Colony Coffee', 'Flip Coffee Roasters', 'Fluid Collective', 'Glyph Supply Co', 'Homeground Coffee Roasterse', 'Kurasu', 'Luli Roasts', 'Narrative Coffee Stand', 'Parchmen & Co', 'PPP Coffee', 'Quarter Life Coffee', 'Rookies Coffee', 'Round Boy', 'Shake Coffee', 'Small Waves', 'The Community', 'Tiong Hoe Coffee', 'Upside Down Coffee', 'Zerah Coffee Roasters'])"
      ]
     },
     "execution_count": 22,
     "metadata": {},
     "output_type": "execute_result"
    }
   ],
   "source": [
    "shopifyJsonProducts.keys()"
   ]
  },
  {
   "cell_type": "code",
   "execution_count": null,
   "metadata": {},
   "outputs": [],
   "source": []
  }
 ],
 "metadata": {
  "kernelspec": {
   "display_name": "projects_env",
   "language": "python",
   "name": "python3"
  },
  "language_info": {
   "codemirror_mode": {
    "name": "ipython",
    "version": 3
   },
   "file_extension": ".py",
   "mimetype": "text/x-python",
   "name": "python",
   "nbconvert_exporter": "python",
   "pygments_lexer": "ipython3",
   "version": "3.12.0"
  }
 },
 "nbformat": 4,
 "nbformat_minor": 4
}
